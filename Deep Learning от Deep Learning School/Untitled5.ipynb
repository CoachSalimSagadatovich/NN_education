{
  "nbformat": 4,
  "nbformat_minor": 0,
  "metadata": {
    "colab": {
      "name": "Untitled5.ipynb",
      "version": "0.3.2",
      "provenance": []
    },
    "language_info": {
      "codemirror_mode": {
        "name": "ipython",
        "version": 3
      },
      "file_extension": ".py",
      "mimetype": "text/x-python",
      "name": "python",
      "nbconvert_exporter": "python",
      "pygments_lexer": "ipython3",
      "version": "3.7.1"
    },
    "kernelspec": {
      "display_name": "Python 3",
      "language": "python",
      "name": "python3"
    }
  },
  "cells": [
    {
      "cell_type": "code",
      "metadata": {
        "id": "9SFlix9HJZLN",
        "colab_type": "code",
        "colab": {}
      },
      "source": [
        "from IPython.display import display\n",
        "import matplotlib.pyplot as plt\n",
        "%matplotlib inline\n",
        "import numpy as np\n",
        "import os\n",
        "import shutil\n",
        "\n",
        "import wfdb"
      ],
      "execution_count": 0,
      "outputs": []
    },
    {
      "cell_type": "code",
      "metadata": {
        "id": "-Nhv-S95JZMM",
        "colab_type": "code",
        "colab": {}
      },
      "source": [
        "!pip install wfdb"
      ],
      "execution_count": 0,
      "outputs": []
    },
    {
      "cell_type": "code",
      "metadata": {
        "id": "V32JFKLGJZNC",
        "colab_type": "code",
        "colab": {
          "base_uri": "https://localhost:8080/",
          "height": 340
        },
        "outputId": "e0c297b1-05c4-45b5-c1c6-84a87072d955"
      },
      "source": [
        "# Demo 1 - Read a wfdb record using the 'rdrecord' function into a wfdb.Record object.\n",
        "# Plot the signals, and show the data.\n",
        "record = wfdb.rdrecord('ORIGIN/A00001') \n",
        "wfdb.plot_wfdb(record=record, title='Record a103l from Physionet Challenge 2015') \n",
        "display(record.__dict__)"
      ],
      "execution_count": 4,
      "outputs": [
        {
          "output_type": "error",
          "ename": "FileNotFoundError",
          "evalue": "ignored",
          "traceback": [
            "\u001b[0;31m---------------------------------------------------------------------------\u001b[0m",
            "\u001b[0;31mFileNotFoundError\u001b[0m                         Traceback (most recent call last)",
            "\u001b[0;32m<ipython-input-4-686513b9e4e2>\u001b[0m in \u001b[0;36m<module>\u001b[0;34m()\u001b[0m\n\u001b[0;32m----> 1\u001b[0;31m \u001b[0mrecord\u001b[0m \u001b[0;34m=\u001b[0m \u001b[0mwfdb\u001b[0m\u001b[0;34m.\u001b[0m\u001b[0mrdrecord\u001b[0m\u001b[0;34m(\u001b[0m\u001b[0;34m'ORIGIN/A00001'\u001b[0m\u001b[0;34m)\u001b[0m\u001b[0;34m\u001b[0m\u001b[0;34m\u001b[0m\u001b[0m\n\u001b[0m\u001b[1;32m      2\u001b[0m \u001b[0mwfdb\u001b[0m\u001b[0;34m.\u001b[0m\u001b[0mplot_wfdb\u001b[0m\u001b[0;34m(\u001b[0m\u001b[0mrecord\u001b[0m\u001b[0;34m=\u001b[0m\u001b[0mrecord\u001b[0m\u001b[0;34m,\u001b[0m \u001b[0mtitle\u001b[0m\u001b[0;34m=\u001b[0m\u001b[0;34m'Record a103l from Physionet Challenge 2015'\u001b[0m\u001b[0;34m)\u001b[0m\u001b[0;34m\u001b[0m\u001b[0;34m\u001b[0m\u001b[0m\n\u001b[1;32m      3\u001b[0m \u001b[0mdisplay\u001b[0m\u001b[0;34m(\u001b[0m\u001b[0mrecord\u001b[0m\u001b[0;34m.\u001b[0m\u001b[0m__dict__\u001b[0m\u001b[0;34m)\u001b[0m\u001b[0;34m\u001b[0m\u001b[0;34m\u001b[0m\u001b[0m\n",
            "\u001b[0;32m/usr/local/lib/python3.6/dist-packages/wfdb/io/record.py\u001b[0m in \u001b[0;36mrdrecord\u001b[0;34m(record_name, sampfrom, sampto, channels, physical, pb_dir, m2s, smooth_frames, ignore_skew, return_res, force_channels, channel_names, warn_empty)\u001b[0m\n\u001b[1;32m   1152\u001b[0m \u001b[0;34m\u001b[0m\u001b[0m\n\u001b[1;32m   1153\u001b[0m     \u001b[0;31m# Read the header fields\u001b[0m\u001b[0;34m\u001b[0m\u001b[0;34m\u001b[0m\u001b[0;34m\u001b[0m\u001b[0m\n\u001b[0;32m-> 1154\u001b[0;31m     \u001b[0mrecord\u001b[0m \u001b[0;34m=\u001b[0m \u001b[0mrdheader\u001b[0m\u001b[0;34m(\u001b[0m\u001b[0mrecord_name\u001b[0m\u001b[0;34m,\u001b[0m \u001b[0mpb_dir\u001b[0m\u001b[0;34m=\u001b[0m\u001b[0mpb_dir\u001b[0m\u001b[0;34m,\u001b[0m \u001b[0mrd_segments\u001b[0m\u001b[0;34m=\u001b[0m\u001b[0;32mFalse\u001b[0m\u001b[0;34m)\u001b[0m\u001b[0;34m\u001b[0m\u001b[0;34m\u001b[0m\u001b[0m\n\u001b[0m\u001b[1;32m   1155\u001b[0m \u001b[0;34m\u001b[0m\u001b[0m\n\u001b[1;32m   1156\u001b[0m     \u001b[0;31m# Set defaults for sampto and channels input variables\u001b[0m\u001b[0;34m\u001b[0m\u001b[0;34m\u001b[0m\u001b[0;34m\u001b[0m\u001b[0m\n",
            "\u001b[0;32m/usr/local/lib/python3.6/dist-packages/wfdb/io/record.py\u001b[0m in \u001b[0;36mrdheader\u001b[0;34m(record_name, pb_dir, rd_segments)\u001b[0m\n\u001b[1;32m    989\u001b[0m     \u001b[0;31m# Read the header file. Separate comment and non-comment lines\u001b[0m\u001b[0;34m\u001b[0m\u001b[0;34m\u001b[0m\u001b[0;34m\u001b[0m\u001b[0m\n\u001b[1;32m    990\u001b[0m     header_lines, comment_lines = _header._read_header_lines(base_record_name,\n\u001b[0;32m--> 991\u001b[0;31m                                                              dir_name, pb_dir)\n\u001b[0m\u001b[1;32m    992\u001b[0m \u001b[0;34m\u001b[0m\u001b[0m\n\u001b[1;32m    993\u001b[0m     \u001b[0;31m# Get fields from record line\u001b[0m\u001b[0;34m\u001b[0m\u001b[0;34m\u001b[0m\u001b[0;34m\u001b[0m\u001b[0m\n",
            "\u001b[0;32m/usr/local/lib/python3.6/dist-packages/wfdb/io/_header.py\u001b[0m in \u001b[0;36m_read_header_lines\u001b[0;34m(base_record_name, dir_name, pb_dir)\u001b[0m\n\u001b[1;32m    703\u001b[0m     \u001b[0;31m# Read local file\u001b[0m\u001b[0;34m\u001b[0m\u001b[0;34m\u001b[0m\u001b[0;34m\u001b[0m\u001b[0m\n\u001b[1;32m    704\u001b[0m     \u001b[0;32mif\u001b[0m \u001b[0mpb_dir\u001b[0m \u001b[0;32mis\u001b[0m \u001b[0;32mNone\u001b[0m\u001b[0;34m:\u001b[0m\u001b[0;34m\u001b[0m\u001b[0;34m\u001b[0m\u001b[0m\n\u001b[0;32m--> 705\u001b[0;31m         \u001b[0;32mwith\u001b[0m \u001b[0mopen\u001b[0m\u001b[0;34m(\u001b[0m\u001b[0mos\u001b[0m\u001b[0;34m.\u001b[0m\u001b[0mpath\u001b[0m\u001b[0;34m.\u001b[0m\u001b[0mjoin\u001b[0m\u001b[0;34m(\u001b[0m\u001b[0mdir_name\u001b[0m\u001b[0;34m,\u001b[0m \u001b[0mfile_name\u001b[0m\u001b[0;34m)\u001b[0m\u001b[0;34m,\u001b[0m \u001b[0;34m'r'\u001b[0m\u001b[0;34m)\u001b[0m \u001b[0;32mas\u001b[0m \u001b[0mfp\u001b[0m\u001b[0;34m:\u001b[0m\u001b[0;34m\u001b[0m\u001b[0;34m\u001b[0m\u001b[0m\n\u001b[0m\u001b[1;32m    706\u001b[0m             \u001b[0;31m# Record line followed by signal/segment lines if any\u001b[0m\u001b[0;34m\u001b[0m\u001b[0;34m\u001b[0m\u001b[0;34m\u001b[0m\u001b[0m\n\u001b[1;32m    707\u001b[0m             \u001b[0mheader_lines\u001b[0m \u001b[0;34m=\u001b[0m \u001b[0;34m[\u001b[0m\u001b[0;34m]\u001b[0m\u001b[0;34m\u001b[0m\u001b[0;34m\u001b[0m\u001b[0m\n",
            "\u001b[0;31mFileNotFoundError\u001b[0m: [Errno 2] No such file or directory: '/content/ORIGIN/A00001.hea'"
          ]
        }
      ]
    },
    {
      "cell_type": "code",
      "metadata": {
        "id": "cSMoCuV3JZNM",
        "colab_type": "code",
        "colab": {}
      },
      "source": [
        "import os\n",
        "cwd = os.getcwd()\n",
        "dl_dir = os.path.join(cwd, 'tmp_dl_dir')"
      ],
      "execution_count": 0,
      "outputs": []
    },
    {
      "cell_type": "code",
      "metadata": {
        "id": "UKsdRLeeJZNU",
        "colab_type": "code",
        "colab": {},
        "outputId": "4486aa2a-f272-4278-8a28-4098aac9d914"
      },
      "source": [
        "# Demo 2 - Read certain channels and sections of the WFDB record using the simplified 'rdsamp' function\n",
        "# which returns a numpy array and a dictionary. Show the data.\n",
        "signals, fields = wfdb.rdsamp('ORIGIN/A00001', channels=[0], sampfrom=100, sampto=2700)\n",
        "display(signals)\n",
        "display(fields)\n"
      ],
      "execution_count": 0,
      "outputs": [
        {
          "output_type": "display_data",
          "data": {
            "text/plain": [
              "array([[-0.153],\n",
              "       [-0.154],\n",
              "       [-0.155],\n",
              "       ...,\n",
              "       [-0.049],\n",
              "       [-0.048],\n",
              "       [-0.045]])"
            ]
          },
          "metadata": {
            "tags": []
          }
        },
        {
          "output_type": "display_data",
          "data": {
            "text/plain": [
              "{'fs': 300,\n",
              " 'sig_len': 2600,\n",
              " 'n_sig': 1,\n",
              " 'base_date': datetime.date(2000, 5, 1),\n",
              " 'base_time': datetime.time(5, 5, 15, 333333),\n",
              " 'units': ['mV'],\n",
              " 'sig_name': ['ECG'],\n",
              " 'comments': []}"
            ]
          },
          "metadata": {
            "tags": []
          }
        }
      ]
    },
    {
      "cell_type": "code",
      "metadata": {
        "id": "wDUABz07JZNc",
        "colab_type": "code",
        "colab": {},
        "outputId": "3d726614-0bc4-4a1c-cac0-f4f16a50cf7f"
      },
      "source": [
        "# Can also read the same files hosted on Physiobank \n",
        "signals2, fields2 = wfdb.rdsamp('s0010_re', channels=[14, 0, 5, 10], sampfrom=100, sampto=15000, pb_dir='ptbdb/patient001/')\n",
        "display(signals2)\n",
        "display(fields2)"
      ],
      "execution_count": 0,
      "outputs": [
        {
          "output_type": "display_data",
          "data": {
            "text/plain": [
              "array([[ 0.0335, -0.167 , -0.237 ,  0.1165],\n",
              "       [ 0.0355, -0.1615, -0.2395,  0.119 ],\n",
              "       [ 0.0385, -0.168 , -0.2465,  0.116 ],\n",
              "       ...,\n",
              "       [-0.0445,  0.008 ,  0.033 ,  0.045 ],\n",
              "       [-0.044 ,  0.0175,  0.042 ,  0.052 ],\n",
              "       [-0.044 ,  0.0245,  0.0365,  0.05  ]])"
            ]
          },
          "metadata": {
            "tags": []
          }
        },
        {
          "output_type": "display_data",
          "data": {
            "text/plain": [
              "{'fs': 1000,\n",
              " 'sig_len': 14900,\n",
              " 'n_sig': 4,\n",
              " 'base_date': None,\n",
              " 'base_time': None,\n",
              " 'units': ['mV', 'mV', 'mV', 'mV'],\n",
              " 'sig_name': ['vz', 'i', 'avf', 'v5'],\n",
              " 'comments': ['age: 81',\n",
              "  'sex: female',\n",
              "  'ECG date: 01/10/1990',\n",
              "  'Diagnose:',\n",
              "  'Reason for admission: Myocardial infarction',\n",
              "  'Acute infarction (localization): infero-latera',\n",
              "  'Former infarction (localization): no',\n",
              "  'Additional diagnoses: Diabetes mellitus',\n",
              "  'Smoker: no',\n",
              "  'Number of coronary vessels involved: 1',\n",
              "  'Infarction date (acute): 29-Sep-90',\n",
              "  'Previous infarction (1) date: n/a',\n",
              "  'Previous infarction (2) date: n/a',\n",
              "  'Hemodynamics:',\n",
              "  'Catheterization date: 16-Oct-90',\n",
              "  'Ventriculography: Akinesia inferior wall',\n",
              "  'Chest X-ray: Heart size upper limit of norm',\n",
              "  'Peripheral blood Pressure (syst/diast):  140/80 mmHg',\n",
              "  'Pulmonary artery pressure (at rest) (syst/diast): n/a',\n",
              "  'Pulmonary artery pressure (at rest) (mean): n/a',\n",
              "  'Pulmonary capillary wedge pressure (at rest): n/a',\n",
              "  'Cardiac output (at rest): n/a',\n",
              "  'Cardiac index (at rest): n/a',\n",
              "  'Stroke volume index (at rest): n/a',\n",
              "  'Pulmonary artery pressure (laod) (syst/diast): n/a',\n",
              "  'Pulmonary artery pressure (laod) (mean): n/a',\n",
              "  'Pulmonary capillary wedge pressure (load): n/a',\n",
              "  'Cardiac output (load): n/a',\n",
              "  'Cardiac index (load): n/a',\n",
              "  'Stroke volume index (load): n/a',\n",
              "  'Aorta (at rest) (syst/diast): 160/64 cmH2O',\n",
              "  'Aorta (at rest) mean: 106 cmH2O',\n",
              "  'Left ventricular enddiastolic pressure: 11 cmH2O',\n",
              "  'Left coronary artery stenoses (RIVA): RIVA 70% proximal to ramus diagonalis_2',\n",
              "  'Left coronary artery stenoses (RCX): No stenoses',\n",
              "  'Right coronary artery stenoses (RCA): No stenoses',\n",
              "  'Echocardiography: n/a',\n",
              "  'Therapy:',\n",
              "  'Infarction date: 29-Sep-90',\n",
              "  'Catheterization date: 16-Oct-90',\n",
              "  'Admission date: 29-Sep-90',\n",
              "  'Medication pre admission: Isosorbit-Dinitrate Digoxin Glibenclamide',\n",
              "  'Start lysis therapy (hh.mm): 19:45',\n",
              "  'Lytic agent: Gamma-TPA',\n",
              "  'Dosage (lytic agent): 30 mg',\n",
              "  'Additional medication: Heparin Isosorbit-Mononitrate ASA Diazepam',\n",
              "  'In hospital medication: ASA Isosorbit-Mononitrate Ca-antagonist Amiloride+Chlorothiazide Glibenclamide Insulin',\n",
              "  'Medication after discharge: ASA Isosorbit-Mononitrate Amiloride+Chlorothiazide Glibenclamide']}"
            ]
          },
          "metadata": {
            "tags": []
          }
        }
      ]
    },
    {
      "cell_type": "code",
      "metadata": {
        "id": "GiiVjOaUJZNn",
        "colab_type": "code",
        "colab": {},
        "outputId": "1a1d0035-1507-450c-d0ff-97f38546ac2f"
      },
      "source": [
        "record = wfdb.rdheader('ORIGIN/A00001')\n",
        "display(record.__dict__)"
      ],
      "execution_count": 0,
      "outputs": [
        {
          "output_type": "display_data",
          "data": {
            "text/plain": [
              "{'record_name': 'A00001',\n",
              " 'n_sig': 1,\n",
              " 'fs': 300,\n",
              " 'counter_freq': None,\n",
              " 'base_counter': None,\n",
              " 'sig_len': 9000,\n",
              " 'base_time': datetime.time(5, 5, 15),\n",
              " 'base_date': datetime.date(2000, 5, 1),\n",
              " 'comments': [],\n",
              " 'sig_name': ['ECG'],\n",
              " 'p_signal': None,\n",
              " 'd_signal': None,\n",
              " 'e_p_signal': None,\n",
              " 'e_d_signal': None,\n",
              " 'file_name': ['A00001.mat'],\n",
              " 'fmt': ['16'],\n",
              " 'samps_per_frame': [1],\n",
              " 'skew': [None],\n",
              " 'byte_offset': [24],\n",
              " 'adc_gain': [1000.0],\n",
              " 'baseline': [0],\n",
              " 'units': ['mV'],\n",
              " 'adc_res': [16],\n",
              " 'adc_zero': [0],\n",
              " 'init_value': [-127],\n",
              " 'checksum': [0],\n",
              " 'block_size': [0],\n",
              " 'base_datetime': datetime.datetime(2000, 5, 1, 5, 5, 15)}"
            ]
          },
          "metadata": {
            "tags": []
          }
        }
      ]
    },
    {
      "cell_type": "code",
      "metadata": {
        "id": "ZHAReymSJZNy",
        "colab_type": "code",
        "colab": {}
      },
      "source": [
        "record2 = wfdb.rdheader('drive02', pb_dir='drivedb')"
      ],
      "execution_count": 0,
      "outputs": []
    },
    {
      "cell_type": "code",
      "metadata": {
        "id": "O2K8_8LVJZN7",
        "colab_type": "code",
        "colab": {},
        "outputId": "c591e159-a6c8-4fb5-b5fe-b01a7b23798c"
      },
      "source": [
        "# Demo 4 - Read part of a WFDB annotation file into a wfdb.Annotation object, and plot the samples\n",
        "\n",
        "# Can also read the same file hosted on PhysioBank \n",
        "annotation2 = wfdb.rdann('100', 'atr', sampfrom=100000, sampto=110000, pb_dir='mitdb')\n",
        "annotation2.fs = 360\n",
        "wfdb.plot_wfdb(annotation=annotation2, time_units='minutes')"
      ],
      "execution_count": 0,
      "outputs": [
        {
          "output_type": "display_data",
          "data": {
            "image/png": "[encoded data removed]",
            "text/plain": [
              "<Figure size 432x288 with 1 Axes>"
            ]
          },
          "metadata": {
            "tags": [],
            "needs_background": "light"
          }
        }
      ]
    },
    {
      "cell_type": "code",
      "metadata": {
        "id": "GGdaVhl-JZOH",
        "colab_type": "code",
        "colab": {},
        "outputId": "4e1e17e9-d198-4b91-a19a-02a4c2b78e47"
      },
      "source": [
        "# Demo 5 - Read a WFDB record and annotation. Plot all channels, and the annotation on top of channel 0.\n",
        "record = wfdb.rdrecord('100', sampto = 110000, pb_dir='mitdb')\n",
        "annotation = wfdb.rdann('100', 'atr', sampfrom=100000, sampto=110000, pb_dir='mitdb')\n",
        "\n",
        "wfdb.plot_wfdb(record=record, annotation=annotation,\n",
        "               title='Record 100 from MIT-BIH Arrhythmia Database',\n",
        "               time_units='seconds')"
      ],
      "execution_count": 0,
      "outputs": [
        {
          "output_type": "display_data",
          "data": {
            "image/png": "[encoded data removed]",
            "text/plain": [
              "<Figure size 432x288 with 2 Axes>"
            ]
          },
          "metadata": {
            "tags": [],
            "needs_background": "light"
          }
        }
      ]
    },
    {
      "cell_type": "code",
      "metadata": {
        "id": "PJsZCRlKJZOR",
        "colab_type": "code",
        "colab": {}
      },
      "source": [
        ""
      ],
      "execution_count": 0,
      "outputs": []
    },
    {
      "cell_type": "code",
      "metadata": {
        "id": "pNqEFF5kJZOX",
        "colab_type": "code",
        "colab": {}
      },
      "source": [
        ""
      ],
      "execution_count": 0,
      "outputs": []
    },
    {
      "cell_type": "code",
      "metadata": {
        "id": "6sh1lYHdJZOe",
        "colab_type": "code",
        "colab": {},
        "outputId": "358d2f01-f51c-4847-80e7-1e8817b6fc47"
      },
      "source": [
        "# Demo 16 - List the Physiobank Databases\n",
        "\n",
        "dbs = wfdb.get_dbs()\n",
        "display(dbs)"
      ],
      "execution_count": 0,
      "outputs": [
        {
          "output_type": "display_data",
          "data": {
            "text/plain": [
              "[['adfecgdb', 'Abdominal and Direct Fetal ECG Database'],\n",
              " ['aftdb', 'AF Termination Challenge Database'],\n",
              " ['ahadb', 'AHA Database [sample excluded record]'],\n",
              " ['aami-ec13', 'ANSI/AAMI EC13 Test Waveforms'],\n",
              " ['apnea-ecg', 'Apnea-ECG Database'],\n",
              " ['chfdb', 'BIDMC Congestive Heart Failure Database'],\n",
              " ['bidmc', 'BIDMC PPG and Respiration Dataset'],\n",
              " ['bpssrat', 'Blood Pressure in Salt-Sensitive Dahl Rats'],\n",
              " ['capslpdb', 'CAP Sleep Database'],\n",
              " ['crisdb', 'CAST RR Interval Sub-Study Database'],\n",
              " ['cves', 'Cerebral Vasoregulation in Elderly with Stroke'],\n",
              " ['challenge/2009/test-set-a', 'Challenge 2009 Test Set A'],\n",
              " ['challenge/2009/test-set-b', 'Challenge 2009 Test Set B'],\n",
              " ['challenge/2010/set-a', 'Challenge 2010 Training Set A'],\n",
              " ['challenge/2010/set-b', 'Challenge 2010 Test Set B'],\n",
              " ['challenge/2010/set-c', 'Challenge 2010 Test Set C'],\n",
              " ['challenge/2011/sim', 'Challenge 2011 Pilot Set'],\n",
              " ['challenge/2011/set-a', 'Challenge 2011 Training Set A'],\n",
              " ['challenge/2011/set-b', 'Challenge 2011 Test Set B'],\n",
              " ['challenge/2013/set-a', 'Challenge 2013 Training Set A'],\n",
              " ['challenge/2013/set-b', 'Challenge 2013 Test Set B'],\n",
              " ['challenge/2014/set-p2', 'Challenge 2014 Extended Training Set'],\n",
              " ['challenge/2014/set-p', 'Challenge 2014 Training Set'],\n",
              " ['challenge/2015/training', 'Challenge 2015 Training Set'],\n",
              " ['challenge/2016/training-a', 'Challenge 2016 Training Set A'],\n",
              " ['challenge/2016/training-b', 'Challenge 2016 Training Set B'],\n",
              " ['challenge/2016/training-c', 'Challenge 2016 Training Set C'],\n",
              " ['challenge/2016/training-d', 'Challenge 2016 Training Set D'],\n",
              " ['challenge/2016/training-e', 'Challenge 2016 Training Set E'],\n",
              " ['challenge/2016/training-f', 'Challenge 2016 Training Set F'],\n",
              " ['challenge/2017/training', 'Challenge 2017 Training Set'],\n",
              " ['challenge/2018/training', 'Challenge 2018 Training Set'],\n",
              " ['challenge/2018/test', 'Challenge 2018 Test Set'],\n",
              " ['charisdb', 'CHARIS database'],\n",
              " ['chbmit', 'CHB-MIT Scalp EEG Database'],\n",
              " ['cebsdb', 'Combined measurement of ECG, Breathing and Seismocardiograms'],\n",
              " ['culm', 'Complex Upper-Limb Movements'],\n",
              " ['chf2db', 'Congestive Heart Failure RR Interval Database'],\n",
              " ['ctu-uhb-ctgdb', 'CTU-CHB Intrapartum Cardiotocography Database'],\n",
              " ['cudb', 'CU Ventricular Tachyarrhythmia Database'],\n",
              " ['ecgdmmld',\n",
              "  'ECG Effects of Dofetilide, Moxifloxacin, Dofetilide+Mexiletine, Dofetilide+Lidocaine and Moxifloxacin+Diltiazem'],\n",
              " ['ecgcipa', 'CiPA ECG Validation Study'],\n",
              " ['ecgrdvq',\n",
              "  'ECG Effects of Ranolazine, Dofetilide, Verapamil, and Quinidine'],\n",
              " ['ecgiddb', 'ECG-ID Database'],\n",
              " ['eegmat', 'EEG During Mental Arithmetic Tasks'],\n",
              " ['eegmmidb', 'EEG Motor Movement/Imagery Dataset'],\n",
              " ['ltrsvp', 'EEG Signals from an RSVP Task'],\n",
              " ['erpbci', 'ERP-based Brain-Computer Interface recordings'],\n",
              " ['edb', 'European ST-T Database'],\n",
              " ['earh', 'Evoked Auditory Responses in Heading Impaired'],\n",
              " ['earndb', 'Evoked Auditory Responses in Normals'],\n",
              " ['emgdb', 'Examples of Electromyograms'],\n",
              " ['fantasia', 'Fantasia Database'],\n",
              " ['fecgsyndb', 'Fetal ECG Synthetic Database'],\n",
              " ['fpcgdb', 'Fetal PCG Database'],\n",
              " ['gaitdb', 'Gait in Aging and Disease Database'],\n",
              " ['gaitndd', 'Gait in Neurodegenerative Disease Database'],\n",
              " ['gait-maturation-db/data', 'Gait Maturation Database'],\n",
              " ['meditation/data', 'Heart Rate Oscillations during Meditation'],\n",
              " ['hbedb', 'Human Balance Evaluation Database'],\n",
              " ['ehgdb', 'Icelandic 16-electrode Electrohysterogram Database'],\n",
              " ['iafdb', 'Intracardiac Atrial Fibrillation Database'],\n",
              " ['ltafdb', 'Long Term AF Database'],\n",
              " ['ltmm', 'Long Term Movement Monitoring Database'],\n",
              " ['ltstdb', 'Long Term ST Database'],\n",
              " ['mssvepdb', 'MAMEM SSVEP Database'],\n",
              " ['mghdb', 'MGH/MF Waveform Database'],\n",
              " ['mimicdb', 'MIMIC Database'],\n",
              " ['mimicdb/numerics', 'MIMIC Database Numerics'],\n",
              " ['mimic2cdb', 'MIMIC II Clinical Database Public Subset'],\n",
              " ['mimic2wdb/30', 'MIMIC II/III Waveform Database, part 0'],\n",
              " ['mimic2wdb/31', 'MIMIC II/III Waveform Database, part 1'],\n",
              " ['mimic2wdb/32', 'MIMIC II/III Waveform Database, part 2'],\n",
              " ['mimic2wdb/33', 'MIMIC II/III Waveform Database, part 3'],\n",
              " ['mimic2wdb/34', 'MIMIC II/III Waveform Database, part 4'],\n",
              " ['mimic2wdb/35', 'MIMIC II/III Waveform Database, part 5'],\n",
              " ['mimic2wdb/36', 'MIMIC II/III Waveform Database, part 6'],\n",
              " ['mimic2wdb/37', 'MIMIC II/III Waveform Database, part 7'],\n",
              " ['mimic2wdb/38', 'MIMIC II/III Waveform Database, part 8'],\n",
              " ['mimic2wdb/39', 'MIMIC II/III Waveform Database, part 9'],\n",
              " ['mimic2wdb/matched', 'MIMIC II Waveform Database Matched Subset'],\n",
              " ['mimic3wdb/matched', 'MIMIC III Waveform Database Matched Subset'],\n",
              " ['mitdb', 'MIT-BIH Arrhythmia Database'],\n",
              " ['pwave', 'MIT-BIH Arrhythmia Database P-Wave Annotations'],\n",
              " ['afdb', 'MIT-BIH Atrial Fibrillation Database'],\n",
              " ['cdb', 'MIT-BIH ECG Compression Test Database'],\n",
              " ['ltdb', 'MIT-BIH Long-Term ECG Database'],\n",
              " ['vfdb', 'MIT-BIH Malignant Ventricular Ectopy Database'],\n",
              " ['nstdb', 'MIT-BIH Noise Stress Test Database'],\n",
              " ['nsrdb', 'MIT-BIH Normal Sinus Rhythm Database'],\n",
              " ['excluded', '... [Recordings excluded from the NSR DB]'],\n",
              " ['slpdb', 'MIT-BIH Polysomnographic Database'],\n",
              " ['stdb', 'MIT-BIH ST Change Database'],\n",
              " ['svdb', 'MIT-BIH Supraventricular Arrhythmia Database'],\n",
              " ['mmgdb', 'MMG Database'],\n",
              " ['macecgdb', 'Motion Artifact Contaminated ECG Database'],\n",
              " ['motion-artifact', 'Motion Artifact Contaminated fNIRS and EEG Data'],\n",
              " ['noneeg', 'Non-EEG Dataset for Assessment of Neurological Status'],\n",
              " ['nifecgdb', 'Non-Invasive Fetal ECG Database'],\n",
              " ['nifeadb', 'Non-Invasive Fetal ECG Arrhythmia Database'],\n",
              " ['nsr2db', 'Normal Sinus Rhythm RR Interval Database'],\n",
              " ['ob1db', 'OB-1 Fetal ECG Database [sample record]'],\n",
              " ['afpdb', 'PAF Prediction Challenge Database'],\n",
              " ['osv', 'Pattern Analysis of Oxygen Saturation Variability'],\n",
              " ['prcp', 'Physiologic Response to Changes in Posture'],\n",
              " ['szdb', 'Post-Ictal Heart Rate Oscillations in Partial Epilepsy'],\n",
              " ['picsdb', 'Preterm Infant Cardio-Respiratory Signals Database'],\n",
              " ['ptbdb', 'PTB Diagnostic ECG Database'],\n",
              " ['qtdb', 'QT Database'],\n",
              " ['rvmh1', 'Response to Valsalva Maneuver in Humans'],\n",
              " ['sufhsdb', 'Shiraz University Fetal Heart Sounds Database'],\n",
              " ['simfpcgdb', 'Simulated Fetal Phonocardiograms'],\n",
              " ['sleepbrl', 'Sleep Bioradiolocation Database'],\n",
              " ['sleep-edfx', 'Sleep-EDF Database [Expanded]'],\n",
              " ['shhpsgdb', 'Sleep Heart Health Study PSG Database [sample record]'],\n",
              " ['shareedb',\n",
              "  'Smart Health for Assessing the Risk of Events via ECG Database'],\n",
              " ['mvtdb/data', 'Spontaneous Ventricular Tachyarrhythmia Database'],\n",
              " ['sgamp', 'Squid Giant Axon Membrane Potential'],\n",
              " ['incartdb', 'St Petersburg INCART 12-lead Arrhythmia Database'],\n",
              " ['staffiii', 'STAFF III Database'],\n",
              " ['drivedb', 'Stress Recognition in Automobile Drivers'],\n",
              " ['sddb', 'Sudden Cardiac Death Holter Database'],\n",
              " ['twadb', 'T-Wave Alternans Challenge Database'],\n",
              " ['taichidb', 'Tai Chi, Physiological Complexity, and Healthy Aging - Gait'],\n",
              " ['tpehgdb', 'Term-Preterm EHG Database'],\n",
              " ['tpehgt', 'Term-Preterm EHG DataSet with Tocogram (TPEHGT DS)'],\n",
              " ['ucddb', 'UCD Sleep Apnea Database'],\n",
              " ['unicaprop', 'UniCA ElectroTastegram Database (PROP)'],\n",
              " ['videopulse', 'Video Pulse Signals in Stationary and Motion Conditions'],\n",
              " ['voiced', 'VOice ICar fEDerico II Database'],\n",
              " ['wrist', 'Wrist PPG During Exercise'],\n",
              " ['mimic2db', 'MIMIC II Waveform DB, v2 [deprecated, use v3]'],\n",
              " ['mimic2db/numerics',\n",
              "  'MIMIC II Waveform DB, v2 Numerics [deprecated, use v3]'],\n",
              " ['sleep-edf', 'Sleep-EDF Database, v1 [deprecated, use sleep-edfx]']]"
            ]
          },
          "metadata": {
            "tags": []
          }
        }
      ]
    },
    {
      "cell_type": "code",
      "metadata": {
        "id": "1y_hmeC_JZOo",
        "colab_type": "code",
        "colab": {},
        "outputId": "7c43c683-7394-4282-bbcb-447d382a2fbf"
      },
      "source": [
        "# Demo 17 - Download all the WFDB records and annotations from a small Physiobank Database\n",
        "\n",
        "# Make a temporary download directory in your current working directory\n",
        "cwd = os.getcwd()\n",
        "dl_dir = os.path.join(cwd, 'tmp_dl_dir')\n",
        "\n",
        "# Download all the WFDB content\n",
        "wfdb.dl_database('ahadb', dl_dir=dl_dir)\n",
        "\n",
        "# Display the downloaded content in the folder\n",
        "display(os.listdir(dl_dir))\n",
        "\n",
        "# Cleanup: delete the downloaded directory\n",
        "# shutil.rmtree(dl_dir)"
      ],
      "execution_count": 0,
      "outputs": [
        {
          "output_type": "error",
          "ename": "ConnectionError",
          "evalue": "HTTPConnectionPool(host='physionet.org', port=8080): Max retries exceeded with url: /physiobank/database/ahadb/ (Caused by NewConnectionError('<urllib3.connection.HTTPConnection object at 0x04C16490>: Failed to establish a new connection: [WinError 10060] Попытка установить соединение была безуспешной, т.к. от другого компьютера за требуемое время не получен нужный отклик, или было разорвано уже установленное соединение из-за неверного отклика уже подключенного компьютера'))",
          "traceback": [
            "\u001b[1;31m---------------------------------------------------------------------------\u001b[0m",
            "\u001b[1;31mTimeoutError\u001b[0m                              Traceback (most recent call last)",
            "\u001b[1;32mC:\\Anaconda\\lib\\site-packages\\urllib3\\connection.py\u001b[0m in \u001b[0;36m_new_conn\u001b[1;34m(self)\u001b[0m\n\u001b[0;32m    158\u001b[0m             conn = connection.create_connection(\n\u001b[1;32m--> 159\u001b[1;33m                 (self._dns_host, self.port), self.timeout, **extra_kw)\n\u001b[0m\u001b[0;32m    160\u001b[0m \u001b[1;33m\u001b[0m\u001b[0m\n",
            "\u001b[1;32mC:\\Anaconda\\lib\\site-packages\\urllib3\\util\\connection.py\u001b[0m in \u001b[0;36mcreate_connection\u001b[1;34m(address, timeout, source_address, socket_options)\u001b[0m\n\u001b[0;32m     79\u001b[0m     \u001b[1;32mif\u001b[0m \u001b[0merr\u001b[0m \u001b[1;32mis\u001b[0m \u001b[1;32mnot\u001b[0m \u001b[1;32mNone\u001b[0m\u001b[1;33m:\u001b[0m\u001b[1;33m\u001b[0m\u001b[1;33m\u001b[0m\u001b[0m\n\u001b[1;32m---> 80\u001b[1;33m         \u001b[1;32mraise\u001b[0m \u001b[0merr\u001b[0m\u001b[1;33m\u001b[0m\u001b[1;33m\u001b[0m\u001b[0m\n\u001b[0m\u001b[0;32m     81\u001b[0m \u001b[1;33m\u001b[0m\u001b[0m\n",
            "\u001b[1;32mC:\\Anaconda\\lib\\site-packages\\urllib3\\util\\connection.py\u001b[0m in \u001b[0;36mcreate_connection\u001b[1;34m(address, timeout, source_address, socket_options)\u001b[0m\n\u001b[0;32m     69\u001b[0m                 \u001b[0msock\u001b[0m\u001b[1;33m.\u001b[0m\u001b[0mbind\u001b[0m\u001b[1;33m(\u001b[0m\u001b[0msource_address\u001b[0m\u001b[1;33m)\u001b[0m\u001b[1;33m\u001b[0m\u001b[1;33m\u001b[0m\u001b[0m\n\u001b[1;32m---> 70\u001b[1;33m             \u001b[0msock\u001b[0m\u001b[1;33m.\u001b[0m\u001b[0mconnect\u001b[0m\u001b[1;33m(\u001b[0m\u001b[0msa\u001b[0m\u001b[1;33m)\u001b[0m\u001b[1;33m\u001b[0m\u001b[1;33m\u001b[0m\u001b[0m\n\u001b[0m\u001b[0;32m     71\u001b[0m             \u001b[1;32mreturn\u001b[0m \u001b[0msock\u001b[0m\u001b[1;33m\u001b[0m\u001b[1;33m\u001b[0m\u001b[0m\n",
            "\u001b[1;31mTimeoutError\u001b[0m: [WinError 10060] Попытка установить соединение была безуспешной, т.к. от другого компьютера за требуемое время не получен нужный отклик, или было разорвано уже установленное соединение из-за неверного отклика уже подключенного компьютера",
            "\nDuring handling of the above exception, another exception occurred:\n",
            "\u001b[1;31mNewConnectionError\u001b[0m                        Traceback (most recent call last)",
            "\u001b[1;32mC:\\Anaconda\\lib\\site-packages\\urllib3\\connectionpool.py\u001b[0m in \u001b[0;36murlopen\u001b[1;34m(self, method, url, body, headers, retries, redirect, assert_same_host, timeout, pool_timeout, release_conn, chunked, body_pos, **response_kw)\u001b[0m\n\u001b[0;32m    599\u001b[0m                                                   \u001b[0mbody\u001b[0m\u001b[1;33m=\u001b[0m\u001b[0mbody\u001b[0m\u001b[1;33m,\u001b[0m \u001b[0mheaders\u001b[0m\u001b[1;33m=\u001b[0m\u001b[0mheaders\u001b[0m\u001b[1;33m,\u001b[0m\u001b[1;33m\u001b[0m\u001b[1;33m\u001b[0m\u001b[0m\n\u001b[1;32m--> 600\u001b[1;33m                                                   chunked=chunked)\n\u001b[0m\u001b[0;32m    601\u001b[0m \u001b[1;33m\u001b[0m\u001b[0m\n",
            "\u001b[1;32mC:\\Anaconda\\lib\\site-packages\\urllib3\\connectionpool.py\u001b[0m in \u001b[0;36m_make_request\u001b[1;34m(self, conn, method, url, timeout, chunked, **httplib_request_kw)\u001b[0m\n\u001b[0;32m    353\u001b[0m         \u001b[1;32melse\u001b[0m\u001b[1;33m:\u001b[0m\u001b[1;33m\u001b[0m\u001b[1;33m\u001b[0m\u001b[0m\n\u001b[1;32m--> 354\u001b[1;33m             \u001b[0mconn\u001b[0m\u001b[1;33m.\u001b[0m\u001b[0mrequest\u001b[0m\u001b[1;33m(\u001b[0m\u001b[0mmethod\u001b[0m\u001b[1;33m,\u001b[0m \u001b[0murl\u001b[0m\u001b[1;33m,\u001b[0m \u001b[1;33m**\u001b[0m\u001b[0mhttplib_request_kw\u001b[0m\u001b[1;33m)\u001b[0m\u001b[1;33m\u001b[0m\u001b[1;33m\u001b[0m\u001b[0m\n\u001b[0m\u001b[0;32m    355\u001b[0m \u001b[1;33m\u001b[0m\u001b[0m\n",
            "\u001b[1;32mC:\\Anaconda\\lib\\http\\client.py\u001b[0m in \u001b[0;36mrequest\u001b[1;34m(self, method, url, body, headers, encode_chunked)\u001b[0m\n\u001b[0;32m   1228\u001b[0m         \u001b[1;34m\"\"\"Send a complete request to the server.\"\"\"\u001b[0m\u001b[1;33m\u001b[0m\u001b[1;33m\u001b[0m\u001b[0m\n\u001b[1;32m-> 1229\u001b[1;33m         \u001b[0mself\u001b[0m\u001b[1;33m.\u001b[0m\u001b[0m_send_request\u001b[0m\u001b[1;33m(\u001b[0m\u001b[0mmethod\u001b[0m\u001b[1;33m,\u001b[0m \u001b[0murl\u001b[0m\u001b[1;33m,\u001b[0m \u001b[0mbody\u001b[0m\u001b[1;33m,\u001b[0m \u001b[0mheaders\u001b[0m\u001b[1;33m,\u001b[0m \u001b[0mencode_chunked\u001b[0m\u001b[1;33m)\u001b[0m\u001b[1;33m\u001b[0m\u001b[1;33m\u001b[0m\u001b[0m\n\u001b[0m\u001b[0;32m   1230\u001b[0m \u001b[1;33m\u001b[0m\u001b[0m\n",
            "\u001b[1;32mC:\\Anaconda\\lib\\http\\client.py\u001b[0m in \u001b[0;36m_send_request\u001b[1;34m(self, method, url, body, headers, encode_chunked)\u001b[0m\n\u001b[0;32m   1274\u001b[0m             \u001b[0mbody\u001b[0m \u001b[1;33m=\u001b[0m \u001b[0m_encode\u001b[0m\u001b[1;33m(\u001b[0m\u001b[0mbody\u001b[0m\u001b[1;33m,\u001b[0m \u001b[1;34m'body'\u001b[0m\u001b[1;33m)\u001b[0m\u001b[1;33m\u001b[0m\u001b[1;33m\u001b[0m\u001b[0m\n\u001b[1;32m-> 1275\u001b[1;33m         \u001b[0mself\u001b[0m\u001b[1;33m.\u001b[0m\u001b[0mendheaders\u001b[0m\u001b[1;33m(\u001b[0m\u001b[0mbody\u001b[0m\u001b[1;33m,\u001b[0m \u001b[0mencode_chunked\u001b[0m\u001b[1;33m=\u001b[0m\u001b[0mencode_chunked\u001b[0m\u001b[1;33m)\u001b[0m\u001b[1;33m\u001b[0m\u001b[1;33m\u001b[0m\u001b[0m\n\u001b[0m\u001b[0;32m   1276\u001b[0m \u001b[1;33m\u001b[0m\u001b[0m\n",
            "\u001b[1;32mC:\\Anaconda\\lib\\http\\client.py\u001b[0m in \u001b[0;36mendheaders\u001b[1;34m(self, message_body, encode_chunked)\u001b[0m\n\u001b[0;32m   1223\u001b[0m             \u001b[1;32mraise\u001b[0m \u001b[0mCannotSendHeader\u001b[0m\u001b[1;33m(\u001b[0m\u001b[1;33m)\u001b[0m\u001b[1;33m\u001b[0m\u001b[1;33m\u001b[0m\u001b[0m\n\u001b[1;32m-> 1224\u001b[1;33m         \u001b[0mself\u001b[0m\u001b[1;33m.\u001b[0m\u001b[0m_send_output\u001b[0m\u001b[1;33m(\u001b[0m\u001b[0mmessage_body\u001b[0m\u001b[1;33m,\u001b[0m \u001b[0mencode_chunked\u001b[0m\u001b[1;33m=\u001b[0m\u001b[0mencode_chunked\u001b[0m\u001b[1;33m)\u001b[0m\u001b[1;33m\u001b[0m\u001b[1;33m\u001b[0m\u001b[0m\n\u001b[0m\u001b[0;32m   1225\u001b[0m \u001b[1;33m\u001b[0m\u001b[0m\n",
            "\u001b[1;32mC:\\Anaconda\\lib\\http\\client.py\u001b[0m in \u001b[0;36m_send_output\u001b[1;34m(self, message_body, encode_chunked)\u001b[0m\n\u001b[0;32m   1015\u001b[0m         \u001b[1;32mdel\u001b[0m \u001b[0mself\u001b[0m\u001b[1;33m.\u001b[0m\u001b[0m_buffer\u001b[0m\u001b[1;33m[\u001b[0m\u001b[1;33m:\u001b[0m\u001b[1;33m]\u001b[0m\u001b[1;33m\u001b[0m\u001b[1;33m\u001b[0m\u001b[0m\n\u001b[1;32m-> 1016\u001b[1;33m         \u001b[0mself\u001b[0m\u001b[1;33m.\u001b[0m\u001b[0msend\u001b[0m\u001b[1;33m(\u001b[0m\u001b[0mmsg\u001b[0m\u001b[1;33m)\u001b[0m\u001b[1;33m\u001b[0m\u001b[1;33m\u001b[0m\u001b[0m\n\u001b[0m\u001b[0;32m   1017\u001b[0m \u001b[1;33m\u001b[0m\u001b[0m\n",
            "\u001b[1;32mC:\\Anaconda\\lib\\http\\client.py\u001b[0m in \u001b[0;36msend\u001b[1;34m(self, data)\u001b[0m\n\u001b[0;32m    955\u001b[0m             \u001b[1;32mif\u001b[0m \u001b[0mself\u001b[0m\u001b[1;33m.\u001b[0m\u001b[0mauto_open\u001b[0m\u001b[1;33m:\u001b[0m\u001b[1;33m\u001b[0m\u001b[1;33m\u001b[0m\u001b[0m\n\u001b[1;32m--> 956\u001b[1;33m                 \u001b[0mself\u001b[0m\u001b[1;33m.\u001b[0m\u001b[0mconnect\u001b[0m\u001b[1;33m(\u001b[0m\u001b[1;33m)\u001b[0m\u001b[1;33m\u001b[0m\u001b[1;33m\u001b[0m\u001b[0m\n\u001b[0m\u001b[0;32m    957\u001b[0m             \u001b[1;32melse\u001b[0m\u001b[1;33m:\u001b[0m\u001b[1;33m\u001b[0m\u001b[1;33m\u001b[0m\u001b[0m\n",
            "\u001b[1;32mC:\\Anaconda\\lib\\site-packages\\urllib3\\connection.py\u001b[0m in \u001b[0;36mconnect\u001b[1;34m(self)\u001b[0m\n\u001b[0;32m    180\u001b[0m     \u001b[1;32mdef\u001b[0m \u001b[0mconnect\u001b[0m\u001b[1;33m(\u001b[0m\u001b[0mself\u001b[0m\u001b[1;33m)\u001b[0m\u001b[1;33m:\u001b[0m\u001b[1;33m\u001b[0m\u001b[1;33m\u001b[0m\u001b[0m\n\u001b[1;32m--> 181\u001b[1;33m         \u001b[0mconn\u001b[0m \u001b[1;33m=\u001b[0m \u001b[0mself\u001b[0m\u001b[1;33m.\u001b[0m\u001b[0m_new_conn\u001b[0m\u001b[1;33m(\u001b[0m\u001b[1;33m)\u001b[0m\u001b[1;33m\u001b[0m\u001b[1;33m\u001b[0m\u001b[0m\n\u001b[0m\u001b[0;32m    182\u001b[0m         \u001b[0mself\u001b[0m\u001b[1;33m.\u001b[0m\u001b[0m_prepare_conn\u001b[0m\u001b[1;33m(\u001b[0m\u001b[0mconn\u001b[0m\u001b[1;33m)\u001b[0m\u001b[1;33m\u001b[0m\u001b[1;33m\u001b[0m\u001b[0m\n",
            "\u001b[1;32mC:\\Anaconda\\lib\\site-packages\\urllib3\\connection.py\u001b[0m in \u001b[0;36m_new_conn\u001b[1;34m(self)\u001b[0m\n\u001b[0;32m    167\u001b[0m             raise NewConnectionError(\n\u001b[1;32m--> 168\u001b[1;33m                 self, \"Failed to establish a new connection: %s\" % e)\n\u001b[0m\u001b[0;32m    169\u001b[0m \u001b[1;33m\u001b[0m\u001b[0m\n",
            "\u001b[1;31mNewConnectionError\u001b[0m: <urllib3.connection.HTTPConnection object at 0x04C16490>: Failed to establish a new connection: [WinError 10060] Попытка установить соединение была безуспешной, т.к. от другого компьютера за требуемое время не получен нужный отклик, или было разорвано уже установленное соединение из-за неверного отклика уже подключенного компьютера",
            "\nDuring handling of the above exception, another exception occurred:\n",
            "\u001b[1;31mMaxRetryError\u001b[0m                             Traceback (most recent call last)",
            "\u001b[1;32mC:\\Anaconda\\lib\\site-packages\\requests\\adapters.py\u001b[0m in \u001b[0;36msend\u001b[1;34m(self, request, stream, timeout, verify, cert, proxies)\u001b[0m\n\u001b[0;32m    448\u001b[0m                     \u001b[0mretries\u001b[0m\u001b[1;33m=\u001b[0m\u001b[0mself\u001b[0m\u001b[1;33m.\u001b[0m\u001b[0mmax_retries\u001b[0m\u001b[1;33m,\u001b[0m\u001b[1;33m\u001b[0m\u001b[1;33m\u001b[0m\u001b[0m\n\u001b[1;32m--> 449\u001b[1;33m                     \u001b[0mtimeout\u001b[0m\u001b[1;33m=\u001b[0m\u001b[0mtimeout\u001b[0m\u001b[1;33m\u001b[0m\u001b[1;33m\u001b[0m\u001b[0m\n\u001b[0m\u001b[0;32m    450\u001b[0m                 )\n",
            "\u001b[1;32mC:\\Anaconda\\lib\\site-packages\\urllib3\\connectionpool.py\u001b[0m in \u001b[0;36murlopen\u001b[1;34m(self, method, url, body, headers, retries, redirect, assert_same_host, timeout, pool_timeout, release_conn, chunked, body_pos, **response_kw)\u001b[0m\n\u001b[0;32m    637\u001b[0m             retries = retries.increment(method, url, error=e, _pool=self,\n\u001b[1;32m--> 638\u001b[1;33m                                         _stacktrace=sys.exc_info()[2])\n\u001b[0m\u001b[0;32m    639\u001b[0m             \u001b[0mretries\u001b[0m\u001b[1;33m.\u001b[0m\u001b[0msleep\u001b[0m\u001b[1;33m(\u001b[0m\u001b[1;33m)\u001b[0m\u001b[1;33m\u001b[0m\u001b[1;33m\u001b[0m\u001b[0m\n",
            "\u001b[1;32mC:\\Anaconda\\lib\\site-packages\\urllib3\\util\\retry.py\u001b[0m in \u001b[0;36mincrement\u001b[1;34m(self, method, url, response, error, _pool, _stacktrace)\u001b[0m\n\u001b[0;32m    397\u001b[0m         \u001b[1;32mif\u001b[0m \u001b[0mnew_retry\u001b[0m\u001b[1;33m.\u001b[0m\u001b[0mis_exhausted\u001b[0m\u001b[1;33m(\u001b[0m\u001b[1;33m)\u001b[0m\u001b[1;33m:\u001b[0m\u001b[1;33m\u001b[0m\u001b[1;33m\u001b[0m\u001b[0m\n\u001b[1;32m--> 398\u001b[1;33m             \u001b[1;32mraise\u001b[0m \u001b[0mMaxRetryError\u001b[0m\u001b[1;33m(\u001b[0m\u001b[0m_pool\u001b[0m\u001b[1;33m,\u001b[0m \u001b[0murl\u001b[0m\u001b[1;33m,\u001b[0m \u001b[0merror\u001b[0m \u001b[1;32mor\u001b[0m \u001b[0mResponseError\u001b[0m\u001b[1;33m(\u001b[0m\u001b[0mcause\u001b[0m\u001b[1;33m)\u001b[0m\u001b[1;33m)\u001b[0m\u001b[1;33m\u001b[0m\u001b[1;33m\u001b[0m\u001b[0m\n\u001b[0m\u001b[0;32m    399\u001b[0m \u001b[1;33m\u001b[0m\u001b[0m\n",
            "\u001b[1;31mMaxRetryError\u001b[0m: HTTPConnectionPool(host='physionet.org', port=8080): Max retries exceeded with url: /physiobank/database/ahadb/ (Caused by NewConnectionError('<urllib3.connection.HTTPConnection object at 0x04C16490>: Failed to establish a new connection: [WinError 10060] Попытка установить соединение была безуспешной, т.к. от другого компьютера за требуемое время не получен нужный отклик, или было разорвано уже установленное соединение из-за неверного отклика уже подключенного компьютера'))",
            "\nDuring handling of the above exception, another exception occurred:\n",
            "\u001b[1;31mConnectionError\u001b[0m                           Traceback (most recent call last)",
            "\u001b[1;32m<ipython-input-34-5b6f9088b7f2>\u001b[0m in \u001b[0;36m<module>\u001b[1;34m\u001b[0m\n\u001b[0;32m      6\u001b[0m \u001b[1;33m\u001b[0m\u001b[0m\n\u001b[0;32m      7\u001b[0m \u001b[1;31m# Download all the WFDB content\u001b[0m\u001b[1;33m\u001b[0m\u001b[1;33m\u001b[0m\u001b[1;33m\u001b[0m\u001b[0m\n\u001b[1;32m----> 8\u001b[1;33m \u001b[0mwfdb\u001b[0m\u001b[1;33m.\u001b[0m\u001b[0mdl_database\u001b[0m\u001b[1;33m(\u001b[0m\u001b[1;34m'ahadb'\u001b[0m\u001b[1;33m,\u001b[0m \u001b[0mdl_dir\u001b[0m\u001b[1;33m=\u001b[0m\u001b[0mdl_dir\u001b[0m\u001b[1;33m)\u001b[0m\u001b[1;33m\u001b[0m\u001b[1;33m\u001b[0m\u001b[0m\n\u001b[0m\u001b[0;32m      9\u001b[0m \u001b[1;33m\u001b[0m\u001b[0m\n\u001b[0;32m     10\u001b[0m \u001b[1;31m# Display the downloaded content in the folder\u001b[0m\u001b[1;33m\u001b[0m\u001b[1;33m\u001b[0m\u001b[1;33m\u001b[0m\u001b[0m\n",
            "\u001b[1;32mC:\\Anaconda\\lib\\site-packages\\wfdb\\io\\record.py\u001b[0m in \u001b[0;36mdl_database\u001b[1;34m(db_dir, dl_dir, records, annotators, keep_subdirs, overwrite)\u001b[0m\n\u001b[0;32m   1609\u001b[0m     \u001b[0mdb_url\u001b[0m \u001b[1;33m=\u001b[0m \u001b[0mposixpath\u001b[0m\u001b[1;33m.\u001b[0m\u001b[0mjoin\u001b[0m\u001b[1;33m(\u001b[0m\u001b[0mdownload\u001b[0m\u001b[1;33m.\u001b[0m\u001b[0mconfig\u001b[0m\u001b[1;33m.\u001b[0m\u001b[0mdb_index_url\u001b[0m\u001b[1;33m,\u001b[0m \u001b[0mdb_dir\u001b[0m\u001b[1;33m)\u001b[0m\u001b[1;33m\u001b[0m\u001b[1;33m\u001b[0m\u001b[0m\n\u001b[0;32m   1610\u001b[0m     \u001b[1;31m# Check if the database is valid\u001b[0m\u001b[1;33m\u001b[0m\u001b[1;33m\u001b[0m\u001b[1;33m\u001b[0m\u001b[0m\n\u001b[1;32m-> 1611\u001b[1;33m     \u001b[0mr\u001b[0m \u001b[1;33m=\u001b[0m \u001b[0mrequests\u001b[0m\u001b[1;33m.\u001b[0m\u001b[0mget\u001b[0m\u001b[1;33m(\u001b[0m\u001b[0mdb_url\u001b[0m\u001b[1;33m)\u001b[0m\u001b[1;33m\u001b[0m\u001b[1;33m\u001b[0m\u001b[0m\n\u001b[0m\u001b[0;32m   1612\u001b[0m     \u001b[0mr\u001b[0m\u001b[1;33m.\u001b[0m\u001b[0mraise_for_status\u001b[0m\u001b[1;33m(\u001b[0m\u001b[1;33m)\u001b[0m\u001b[1;33m\u001b[0m\u001b[1;33m\u001b[0m\u001b[0m\n\u001b[0;32m   1613\u001b[0m \u001b[1;33m\u001b[0m\u001b[0m\n",
            "\u001b[1;32mC:\\Anaconda\\lib\\site-packages\\requests\\api.py\u001b[0m in \u001b[0;36mget\u001b[1;34m(url, params, **kwargs)\u001b[0m\n\u001b[0;32m     73\u001b[0m \u001b[1;33m\u001b[0m\u001b[0m\n\u001b[0;32m     74\u001b[0m     \u001b[0mkwargs\u001b[0m\u001b[1;33m.\u001b[0m\u001b[0msetdefault\u001b[0m\u001b[1;33m(\u001b[0m\u001b[1;34m'allow_redirects'\u001b[0m\u001b[1;33m,\u001b[0m \u001b[1;32mTrue\u001b[0m\u001b[1;33m)\u001b[0m\u001b[1;33m\u001b[0m\u001b[1;33m\u001b[0m\u001b[0m\n\u001b[1;32m---> 75\u001b[1;33m     \u001b[1;32mreturn\u001b[0m \u001b[0mrequest\u001b[0m\u001b[1;33m(\u001b[0m\u001b[1;34m'get'\u001b[0m\u001b[1;33m,\u001b[0m \u001b[0murl\u001b[0m\u001b[1;33m,\u001b[0m \u001b[0mparams\u001b[0m\u001b[1;33m=\u001b[0m\u001b[0mparams\u001b[0m\u001b[1;33m,\u001b[0m \u001b[1;33m**\u001b[0m\u001b[0mkwargs\u001b[0m\u001b[1;33m)\u001b[0m\u001b[1;33m\u001b[0m\u001b[1;33m\u001b[0m\u001b[0m\n\u001b[0m\u001b[0;32m     76\u001b[0m \u001b[1;33m\u001b[0m\u001b[0m\n\u001b[0;32m     77\u001b[0m \u001b[1;33m\u001b[0m\u001b[0m\n",
            "\u001b[1;32mC:\\Anaconda\\lib\\site-packages\\requests\\api.py\u001b[0m in \u001b[0;36mrequest\u001b[1;34m(method, url, **kwargs)\u001b[0m\n\u001b[0;32m     58\u001b[0m     \u001b[1;31m# cases, and look like a memory leak in others.\u001b[0m\u001b[1;33m\u001b[0m\u001b[1;33m\u001b[0m\u001b[1;33m\u001b[0m\u001b[0m\n\u001b[0;32m     59\u001b[0m     \u001b[1;32mwith\u001b[0m \u001b[0msessions\u001b[0m\u001b[1;33m.\u001b[0m\u001b[0mSession\u001b[0m\u001b[1;33m(\u001b[0m\u001b[1;33m)\u001b[0m \u001b[1;32mas\u001b[0m \u001b[0msession\u001b[0m\u001b[1;33m:\u001b[0m\u001b[1;33m\u001b[0m\u001b[1;33m\u001b[0m\u001b[0m\n\u001b[1;32m---> 60\u001b[1;33m         \u001b[1;32mreturn\u001b[0m \u001b[0msession\u001b[0m\u001b[1;33m.\u001b[0m\u001b[0mrequest\u001b[0m\u001b[1;33m(\u001b[0m\u001b[0mmethod\u001b[0m\u001b[1;33m=\u001b[0m\u001b[0mmethod\u001b[0m\u001b[1;33m,\u001b[0m \u001b[0murl\u001b[0m\u001b[1;33m=\u001b[0m\u001b[0murl\u001b[0m\u001b[1;33m,\u001b[0m \u001b[1;33m**\u001b[0m\u001b[0mkwargs\u001b[0m\u001b[1;33m)\u001b[0m\u001b[1;33m\u001b[0m\u001b[1;33m\u001b[0m\u001b[0m\n\u001b[0m\u001b[0;32m     61\u001b[0m \u001b[1;33m\u001b[0m\u001b[0m\n\u001b[0;32m     62\u001b[0m \u001b[1;33m\u001b[0m\u001b[0m\n",
            "\u001b[1;32mC:\\Anaconda\\lib\\site-packages\\requests\\sessions.py\u001b[0m in \u001b[0;36mrequest\u001b[1;34m(self, method, url, params, data, headers, cookies, files, auth, timeout, allow_redirects, proxies, hooks, stream, verify, cert, json)\u001b[0m\n\u001b[0;32m    531\u001b[0m         }\n\u001b[0;32m    532\u001b[0m         \u001b[0msend_kwargs\u001b[0m\u001b[1;33m.\u001b[0m\u001b[0mupdate\u001b[0m\u001b[1;33m(\u001b[0m\u001b[0msettings\u001b[0m\u001b[1;33m)\u001b[0m\u001b[1;33m\u001b[0m\u001b[1;33m\u001b[0m\u001b[0m\n\u001b[1;32m--> 533\u001b[1;33m         \u001b[0mresp\u001b[0m \u001b[1;33m=\u001b[0m \u001b[0mself\u001b[0m\u001b[1;33m.\u001b[0m\u001b[0msend\u001b[0m\u001b[1;33m(\u001b[0m\u001b[0mprep\u001b[0m\u001b[1;33m,\u001b[0m \u001b[1;33m**\u001b[0m\u001b[0msend_kwargs\u001b[0m\u001b[1;33m)\u001b[0m\u001b[1;33m\u001b[0m\u001b[1;33m\u001b[0m\u001b[0m\n\u001b[0m\u001b[0;32m    534\u001b[0m \u001b[1;33m\u001b[0m\u001b[0m\n\u001b[0;32m    535\u001b[0m         \u001b[1;32mreturn\u001b[0m \u001b[0mresp\u001b[0m\u001b[1;33m\u001b[0m\u001b[1;33m\u001b[0m\u001b[0m\n",
            "\u001b[1;32mC:\\Anaconda\\lib\\site-packages\\requests\\sessions.py\u001b[0m in \u001b[0;36msend\u001b[1;34m(self, request, **kwargs)\u001b[0m\n\u001b[0;32m    666\u001b[0m \u001b[1;33m\u001b[0m\u001b[0m\n\u001b[0;32m    667\u001b[0m         \u001b[1;31m# Resolve redirects if allowed.\u001b[0m\u001b[1;33m\u001b[0m\u001b[1;33m\u001b[0m\u001b[1;33m\u001b[0m\u001b[0m\n\u001b[1;32m--> 668\u001b[1;33m         \u001b[0mhistory\u001b[0m \u001b[1;33m=\u001b[0m \u001b[1;33m[\u001b[0m\u001b[0mresp\u001b[0m \u001b[1;32mfor\u001b[0m \u001b[0mresp\u001b[0m \u001b[1;32min\u001b[0m \u001b[0mgen\u001b[0m\u001b[1;33m]\u001b[0m \u001b[1;32mif\u001b[0m \u001b[0mallow_redirects\u001b[0m \u001b[1;32melse\u001b[0m \u001b[1;33m[\u001b[0m\u001b[1;33m]\u001b[0m\u001b[1;33m\u001b[0m\u001b[1;33m\u001b[0m\u001b[0m\n\u001b[0m\u001b[0;32m    669\u001b[0m \u001b[1;33m\u001b[0m\u001b[0m\n\u001b[0;32m    670\u001b[0m         \u001b[1;31m# Shuffle things around if there's history.\u001b[0m\u001b[1;33m\u001b[0m\u001b[1;33m\u001b[0m\u001b[1;33m\u001b[0m\u001b[0m\n",
            "\u001b[1;32mC:\\Anaconda\\lib\\site-packages\\requests\\sessions.py\u001b[0m in \u001b[0;36m<listcomp>\u001b[1;34m(.0)\u001b[0m\n\u001b[0;32m    666\u001b[0m \u001b[1;33m\u001b[0m\u001b[0m\n\u001b[0;32m    667\u001b[0m         \u001b[1;31m# Resolve redirects if allowed.\u001b[0m\u001b[1;33m\u001b[0m\u001b[1;33m\u001b[0m\u001b[1;33m\u001b[0m\u001b[0m\n\u001b[1;32m--> 668\u001b[1;33m         \u001b[0mhistory\u001b[0m \u001b[1;33m=\u001b[0m \u001b[1;33m[\u001b[0m\u001b[0mresp\u001b[0m \u001b[1;32mfor\u001b[0m \u001b[0mresp\u001b[0m \u001b[1;32min\u001b[0m \u001b[0mgen\u001b[0m\u001b[1;33m]\u001b[0m \u001b[1;32mif\u001b[0m \u001b[0mallow_redirects\u001b[0m \u001b[1;32melse\u001b[0m \u001b[1;33m[\u001b[0m\u001b[1;33m]\u001b[0m\u001b[1;33m\u001b[0m\u001b[1;33m\u001b[0m\u001b[0m\n\u001b[0m\u001b[0;32m    669\u001b[0m \u001b[1;33m\u001b[0m\u001b[0m\n\u001b[0;32m    670\u001b[0m         \u001b[1;31m# Shuffle things around if there's history.\u001b[0m\u001b[1;33m\u001b[0m\u001b[1;33m\u001b[0m\u001b[1;33m\u001b[0m\u001b[0m\n",
            "\u001b[1;32mC:\\Anaconda\\lib\\site-packages\\requests\\sessions.py\u001b[0m in \u001b[0;36mresolve_redirects\u001b[1;34m(self, resp, req, stream, timeout, verify, cert, proxies, yield_requests, **adapter_kwargs)\u001b[0m\n\u001b[0;32m    245\u001b[0m                     \u001b[0mproxies\u001b[0m\u001b[1;33m=\u001b[0m\u001b[0mproxies\u001b[0m\u001b[1;33m,\u001b[0m\u001b[1;33m\u001b[0m\u001b[1;33m\u001b[0m\u001b[0m\n\u001b[0;32m    246\u001b[0m                     \u001b[0mallow_redirects\u001b[0m\u001b[1;33m=\u001b[0m\u001b[1;32mFalse\u001b[0m\u001b[1;33m,\u001b[0m\u001b[1;33m\u001b[0m\u001b[1;33m\u001b[0m\u001b[0m\n\u001b[1;32m--> 247\u001b[1;33m                     \u001b[1;33m**\u001b[0m\u001b[0madapter_kwargs\u001b[0m\u001b[1;33m\u001b[0m\u001b[1;33m\u001b[0m\u001b[0m\n\u001b[0m\u001b[0;32m    248\u001b[0m                 )\n\u001b[0;32m    249\u001b[0m \u001b[1;33m\u001b[0m\u001b[0m\n",
            "\u001b[1;32mC:\\Anaconda\\lib\\site-packages\\requests\\sessions.py\u001b[0m in \u001b[0;36msend\u001b[1;34m(self, request, **kwargs)\u001b[0m\n\u001b[0;32m    644\u001b[0m \u001b[1;33m\u001b[0m\u001b[0m\n\u001b[0;32m    645\u001b[0m         \u001b[1;31m# Send the request\u001b[0m\u001b[1;33m\u001b[0m\u001b[1;33m\u001b[0m\u001b[1;33m\u001b[0m\u001b[0m\n\u001b[1;32m--> 646\u001b[1;33m         \u001b[0mr\u001b[0m \u001b[1;33m=\u001b[0m \u001b[0madapter\u001b[0m\u001b[1;33m.\u001b[0m\u001b[0msend\u001b[0m\u001b[1;33m(\u001b[0m\u001b[0mrequest\u001b[0m\u001b[1;33m,\u001b[0m \u001b[1;33m**\u001b[0m\u001b[0mkwargs\u001b[0m\u001b[1;33m)\u001b[0m\u001b[1;33m\u001b[0m\u001b[1;33m\u001b[0m\u001b[0m\n\u001b[0m\u001b[0;32m    647\u001b[0m \u001b[1;33m\u001b[0m\u001b[0m\n\u001b[0;32m    648\u001b[0m         \u001b[1;31m# Total elapsed time of the request (approximately)\u001b[0m\u001b[1;33m\u001b[0m\u001b[1;33m\u001b[0m\u001b[1;33m\u001b[0m\u001b[0m\n",
            "\u001b[1;32mC:\\Anaconda\\lib\\site-packages\\requests\\adapters.py\u001b[0m in \u001b[0;36msend\u001b[1;34m(self, request, stream, timeout, verify, cert, proxies)\u001b[0m\n\u001b[0;32m    514\u001b[0m                 \u001b[1;32mraise\u001b[0m \u001b[0mSSLError\u001b[0m\u001b[1;33m(\u001b[0m\u001b[0me\u001b[0m\u001b[1;33m,\u001b[0m \u001b[0mrequest\u001b[0m\u001b[1;33m=\u001b[0m\u001b[0mrequest\u001b[0m\u001b[1;33m)\u001b[0m\u001b[1;33m\u001b[0m\u001b[1;33m\u001b[0m\u001b[0m\n\u001b[0;32m    515\u001b[0m \u001b[1;33m\u001b[0m\u001b[0m\n\u001b[1;32m--> 516\u001b[1;33m             \u001b[1;32mraise\u001b[0m \u001b[0mConnectionError\u001b[0m\u001b[1;33m(\u001b[0m\u001b[0me\u001b[0m\u001b[1;33m,\u001b[0m \u001b[0mrequest\u001b[0m\u001b[1;33m=\u001b[0m\u001b[0mrequest\u001b[0m\u001b[1;33m)\u001b[0m\u001b[1;33m\u001b[0m\u001b[1;33m\u001b[0m\u001b[0m\n\u001b[0m\u001b[0;32m    517\u001b[0m \u001b[1;33m\u001b[0m\u001b[0m\n\u001b[0;32m    518\u001b[0m         \u001b[1;32mexcept\u001b[0m \u001b[0mClosedPoolError\u001b[0m \u001b[1;32mas\u001b[0m \u001b[0me\u001b[0m\u001b[1;33m:\u001b[0m\u001b[1;33m\u001b[0m\u001b[1;33m\u001b[0m\u001b[0m\n",
            "\u001b[1;31mConnectionError\u001b[0m: HTTPConnectionPool(host='physionet.org', port=8080): Max retries exceeded with url: /physiobank/database/ahadb/ (Caused by NewConnectionError('<urllib3.connection.HTTPConnection object at 0x04C16490>: Failed to establish a new connection: [WinError 10060] Попытка установить соединение была безуспешной, т.к. от другого компьютера за требуемое время не получен нужный отклик, или было разорвано уже установленное соединение из-за неверного отклика уже подключенного компьютера'))"
          ]
        }
      ]
    },
    {
      "cell_type": "code",
      "metadata": {
        "id": "4Y8aIOw-JZO2",
        "colab_type": "code",
        "colab": {},
        "outputId": "227cb51b-7db7-4fae-acec-6b125e057195"
      },
      "source": [
        "\n",
        "python -m wget -r -np http://physionet.org/physiobank/database/mitdb/"
      ],
      "execution_count": 0,
      "outputs": [
        {
          "output_type": "error",
          "ename": "SyntaxError",
          "evalue": "invalid syntax (<ipython-input-46-cab6bb61d058>, line 2)",
          "traceback": [
            "\u001b[1;36m  File \u001b[1;32m\"<ipython-input-46-cab6bb61d058>\"\u001b[1;36m, line \u001b[1;32m2\u001b[0m\n\u001b[1;33m    python -m wget -r -np http://physionet.org/physiobank/database/mitdb/\u001b[0m\n\u001b[1;37m                 ^\u001b[0m\n\u001b[1;31mSyntaxError\u001b[0m\u001b[1;31m:\u001b[0m invalid syntax\n"
          ]
        }
      ]
    },
    {
      "cell_type": "code",
      "metadata": {
        "id": "OodOXcRdJZPA",
        "colab_type": "code",
        "colab": {},
        "outputId": "2dab584a-bff7-4b3f-a0cd-22982ff56eba"
      },
      "source": [
        "!pip install wget"
      ],
      "execution_count": 0,
      "outputs": [
        {
          "output_type": "stream",
          "text": [
            "Collecting wget\n",
            "  Downloading https://files.pythonhosted.org/packages/47/6a/62e288da7bcda82b935ff0c6cfe542970f04e29c756b0e147251b2fb251f/wget-3.2.zip\n",
            "Building wheels for collected packages: wget\n",
            "  Running setup.py bdist_wheel for wget: started\n",
            "  Running setup.py bdist_wheel for wget: finished with status 'done'\n",
            "  Stored in directory: C:\\Users\\BulatN\\AppData\\Local\\pip\\Cache\\wheels\\40\\15\\30\\7d8f7cea2902b4db79e3fea550d7d7b85ecb27ef992b618f3f\n",
            "Successfully built wget\n",
            "Installing collected packages: wget\n",
            "Successfully installed wget-3.2\n"
          ],
          "name": "stdout"
        }
      ]
    },
    {
      "cell_type": "code",
      "metadata": {
        "id": "ImDOLyubJZPJ",
        "colab_type": "code",
        "colab": {}
      },
      "source": [
        ""
      ],
      "execution_count": 0,
      "outputs": []
    },
    {
      "cell_type": "code",
      "metadata": {
        "id": "NcGzNwgOJZPP",
        "colab_type": "code",
        "colab": {}
      },
      "source": [
        ""
      ],
      "execution_count": 0,
      "outputs": []
    },
    {
      "cell_type": "code",
      "metadata": {
        "id": "3sNDs5ikJZPW",
        "colab_type": "code",
        "colab": {}
      },
      "source": [
        ""
      ],
      "execution_count": 0,
      "outputs": []
    }
  ]
}